{
 "cells": [
  {
   "cell_type": "code",
   "execution_count": 1,
   "metadata": {},
   "outputs": [],
   "source": [
    "import shutil\n",
    "\n",
    "import tf_estimator_factory as tf_factory"
   ]
  },
  {
   "cell_type": "code",
   "execution_count": 3,
   "metadata": {},
   "outputs": [
    {
     "name": "stdout",
     "output_type": "stream",
     "text": [
      "1.15.0\n",
      "0.7.0\n"
     ]
    }
   ],
   "source": [
    "print(tf.__version__)\n",
    "print(hub.__version__)"
   ]
  },
  {
   "cell_type": "code",
   "execution_count": 2,
   "metadata": {},
   "outputs": [
    {
     "name": "stdout",
     "output_type": "stream",
     "text": [
      "INFO:tensorflow:Using config: {'_model_dir': 'logs', '_tf_random_seed': None, '_save_summary_steps': 100, '_save_checkpoints_steps': None, '_save_checkpoints_secs': 300, '_session_config': allow_soft_placement: true\n",
      "graph_options {\n",
      "  rewrite_options {\n",
      "    meta_optimizer_iterations: ONE\n",
      "  }\n",
      "}\n",
      ", '_keep_checkpoint_max': 3, '_keep_checkpoint_every_n_hours': 10000, '_log_step_count_steps': 100, '_train_distribute': None, '_device_fn': None, '_protocol': None, '_eval_distribute': None, '_experimental_distribute': None, '_experimental_max_worker_delay_secs': None, '_session_creation_timeout_secs': 7200, '_service': None, '_cluster_spec': <tensorflow.python.training.server_lib.ClusterSpec object at 0x0000022C9D6E7080>, '_task_type': 'worker', '_task_id': 0, '_global_id_in_cluster': 0, '_master': '', '_evaluation_master': '', '_is_chief': True, '_num_ps_replicas': 0, '_num_worker_replicas': 1}\n",
      "INFO:tensorflow:Not using Distribute Coordinator.\n",
      "INFO:tensorflow:Running training and evaluation locally (non-distributed).\n",
      "INFO:tensorflow:Start train and evaluate loop. The evaluate will happen after every checkpoint. Checkpoint frequency is determined based on RunConfig arguments: save_checkpoints_steps None or save_checkpoints_secs 300.\n",
      "WARNING:tensorflow:From C:\\Users\\junsh\\AppData\\Local\\Continuum\\anaconda3\\lib\\site-packages\\tensorflow_core\\python\\training\\training_util.py:236: Variable.initialized_value (from tensorflow.python.ops.variables) is deprecated and will be removed in a future version.\n",
      "Instructions for updating:\n",
      "Use Variable.read_value. Variables in 2.X are initialized automatically both in eager and graph (inside tf.defun) contexts.\n",
      "WARNING:tensorflow:From C:\\Users\\junsh\\Documents\\MLT\\tf_estimator_factory.py:33: The name tf.gfile.Glob is deprecated. Please use tf.io.gfile.glob instead.\n",
      "\n",
      "WARNING:tensorflow:From C:\\Users\\junsh\\AppData\\Local\\Continuum\\anaconda3\\lib\\site-packages\\tensorflow_core\\python\\autograph\\converters\\directives.py:119: The name tf.decode_csv is deprecated. Please use tf.io.decode_csv instead.\n",
      "\n",
      "INFO:tensorflow:Calling model_fn.\n",
      "WARNING:tensorflow:From C:\\Users\\junsh\\AppData\\Local\\Continuum\\anaconda3\\lib\\site-packages\\tensorflow_core\\python\\ops\\resource_variable_ops.py:1630: calling BaseResourceVariable.__init__ (from tensorflow.python.ops.resource_variable_ops) with constraint is deprecated and will be removed in a future version.\n",
      "Instructions for updating:\n",
      "If using Keras pass *_constraint arguments to layers.\n",
      "WARNING:tensorflow:From C:\\Users\\junsh\\AppData\\Local\\Continuum\\anaconda3\\lib\\site-packages\\tensorflow_estimator\\python\\estimator\\canned\\head.py:437: to_float (from tensorflow.python.ops.math_ops) is deprecated and will be removed in a future version.\n",
      "Instructions for updating:\n",
      "Use `tf.cast` instead.\n",
      "WARNING:tensorflow:From C:\\Users\\junsh\\AppData\\Local\\Continuum\\anaconda3\\lib\\site-packages\\tensorflow_core\\python\\ops\\nn_impl.py:183: where (from tensorflow.python.ops.array_ops) is deprecated and will be removed in a future version.\n",
      "Instructions for updating:\n",
      "Use tf.where in 2.0, which has the same broadcast rule as np.where\n",
      "WARNING:tensorflow:From C:\\Users\\junsh\\AppData\\Local\\Continuum\\anaconda3\\lib\\site-packages\\tensorflow_core\\python\\training\\adagrad.py:76: calling Constant.__init__ (from tensorflow.python.ops.init_ops) with dtype is deprecated and will be removed in a future version.\n",
      "Instructions for updating:\n",
      "Call initializer instance with the dtype argument instead of passing it to the constructor\n",
      "INFO:tensorflow:Done calling model_fn.\n",
      "INFO:tensorflow:Create CheckpointSaverHook.\n",
      "INFO:tensorflow:Graph was finalized.\n",
      "INFO:tensorflow:Running local_init_op.\n",
      "INFO:tensorflow:Done running local_init_op.\n",
      "INFO:tensorflow:Saving checkpoints for 0 into logs\\model.ckpt.\n",
      "INFO:tensorflow:loss = 408.58752, step = 1\n",
      "INFO:tensorflow:global_step/sec: 22.3822\n",
      "INFO:tensorflow:loss = 22.07824, step = 101 (4.471 sec)\n",
      "INFO:tensorflow:global_step/sec: 23.1684\n",
      "INFO:tensorflow:loss = 26.938383, step = 201 (4.315 sec)\n",
      "INFO:tensorflow:global_step/sec: 23.3476\n",
      "INFO:tensorflow:loss = 17.193804, step = 301 (4.281 sec)\n",
      "INFO:tensorflow:global_step/sec: 22.1679\n",
      "INFO:tensorflow:loss = 24.933352, step = 401 (4.513 sec)\n",
      "INFO:tensorflow:global_step/sec: 22.8628\n",
      "INFO:tensorflow:loss = 10.012861, step = 501 (4.372 sec)\n",
      "INFO:tensorflow:global_step/sec: 23.6667\n",
      "INFO:tensorflow:loss = 19.781359, step = 601 (4.241 sec)\n",
      "INFO:tensorflow:global_step/sec: 22.8263\n",
      "INFO:tensorflow:loss = 10.013884, step = 701 (4.365 sec)\n",
      "INFO:tensorflow:global_step/sec: 22.3238\n",
      "INFO:tensorflow:loss = 5.9613056, step = 801 (4.480 sec)\n",
      "INFO:tensorflow:global_step/sec: 23.0658\n",
      "INFO:tensorflow:loss = 4.325299, step = 901 (4.337 sec)\n",
      "INFO:tensorflow:Saving checkpoints for 1000 into logs\\model.ckpt.\n",
      "INFO:tensorflow:Calling model_fn.\n",
      "WARNING:tensorflow:From C:\\Users\\junsh\\AppData\\Local\\Continuum\\anaconda3\\lib\\site-packages\\tensorflow_core\\python\\ops\\metrics_impl.py:2026: div (from tensorflow.python.ops.math_ops) is deprecated and will be removed in a future version.\n",
      "Instructions for updating:\n",
      "Deprecated in favor of operator or tf.math.divide.\n",
      "WARNING:tensorflow:Trapezoidal rule is known to produce incorrect PR-AUCs; please switch to \"careful_interpolation\" instead.\n",
      "WARNING:tensorflow:Trapezoidal rule is known to produce incorrect PR-AUCs; please switch to \"careful_interpolation\" instead.\n",
      "INFO:tensorflow:Done calling model_fn.\n",
      "INFO:tensorflow:Starting evaluation at 2020-01-02T21:23:59Z\n",
      "INFO:tensorflow:Graph was finalized.\n",
      "INFO:tensorflow:Restoring parameters from logs\\model.ckpt-1000\n",
      "INFO:tensorflow:Running local_init_op.\n",
      "INFO:tensorflow:Done running local_init_op.\n",
      "INFO:tensorflow:Finished evaluation at 2020-01-02-21:24:00\n",
      "INFO:tensorflow:Saving dict for global step 1000: accuracy = 0.5, accuracy_baseline = 0.5, auc = 0.7949381, auc_precision_recall = 0.8799306, average_loss = 4.338981, global_step = 1000, label/mean = 0.5, loss = 381.83032, precision = 0.0, prediction/mean = 0.06489119, recall = 0.0\n",
      "INFO:tensorflow:Saving 'checkpoint_path' summary for global step 1000: logs\\model.ckpt-1000\n",
      "WARNING:tensorflow:From C:\\Users\\junsh\\Documents\\MLT\\tf_estimator_factory.py:71: The name tf.placeholder is deprecated. Please use tf.compat.v1.placeholder instead.\n",
      "\n",
      "INFO:tensorflow:Calling model_fn.\n",
      "INFO:tensorflow:Done calling model_fn.\n",
      "WARNING:tensorflow:From C:\\Users\\junsh\\AppData\\Local\\Continuum\\anaconda3\\lib\\site-packages\\tensorflow_core\\python\\saved_model\\signature_def_utils_impl.py:201: build_tensor_info (from tensorflow.python.saved_model.utils_impl) is deprecated and will be removed in a future version.\n",
      "Instructions for updating:\n",
      "This function will only be available through the v1 compatibility library as tf.compat.v1.saved_model.utils.build_tensor_info or tf.compat.v1.saved_model.build_tensor_info.\n",
      "INFO:tensorflow:Signatures INCLUDED in export for Classify: None\n",
      "INFO:tensorflow:Signatures INCLUDED in export for Regress: None\n",
      "INFO:tensorflow:Signatures INCLUDED in export for Predict: ['predict']\n",
      "INFO:tensorflow:Signatures INCLUDED in export for Train: None\n",
      "INFO:tensorflow:Signatures INCLUDED in export for Eval: None\n",
      "INFO:tensorflow:Signatures EXCLUDED from export because they cannot be be served via TensorFlow Serving APIs:\n",
      "INFO:tensorflow:'serving_default' : Classification input must be a single string Tensor; got {'Fiscal_year': <tf.Tensor 'Placeholder:0' shape=(?,) dtype=float64>, 'Tobin_Q': <tf.Tensor 'Placeholder_1:0' shape=(?,) dtype=float32>, 'EPS': <tf.Tensor 'Placeholder_2:0' shape=(?,) dtype=float32>, 'Profitability': <tf.Tensor 'Placeholder_3:0' shape=(?,) dtype=float32>, 'Productivity': <tf.Tensor 'Placeholder_4:0' shape=(?,) dtype=float32>, 'Leverage_Ratio': <tf.Tensor 'Placeholder_5:0' shape=(?,) dtype=float32>, 'Asset_Turnover': <tf.Tensor 'Placeholder_6:0' shape=(?,) dtype=float32>, 'Operational_Margin': <tf.Tensor 'Placeholder_7:0' shape=(?,) dtype=float32>, 'Return_Equity': <tf.Tensor 'Placeholder_8:0' shape=(?,) dtype=float32>, 'Market_Book_Ratio': <tf.Tensor 'Placeholder_9:0' shape=(?,) dtype=float32>, 'Assets_Growth': <tf.Tensor 'Placeholder_10:0' shape=(?,) dtype=float32>, 'Sales_Growth': <tf.Tensor 'Placeholder_11:0' shape=(?,) dtype=float32>, 'Employee_Growth': <tf.Tensor 'Placeholder_12:0' shape=(?,) dtype=float32>}\n"
     ]
    },
    {
     "name": "stdout",
     "output_type": "stream",
     "text": [
      "INFO:tensorflow:'classification' : Classification input must be a single string Tensor; got {'Fiscal_year': <tf.Tensor 'Placeholder:0' shape=(?,) dtype=float64>, 'Tobin_Q': <tf.Tensor 'Placeholder_1:0' shape=(?,) dtype=float32>, 'EPS': <tf.Tensor 'Placeholder_2:0' shape=(?,) dtype=float32>, 'Profitability': <tf.Tensor 'Placeholder_3:0' shape=(?,) dtype=float32>, 'Productivity': <tf.Tensor 'Placeholder_4:0' shape=(?,) dtype=float32>, 'Leverage_Ratio': <tf.Tensor 'Placeholder_5:0' shape=(?,) dtype=float32>, 'Asset_Turnover': <tf.Tensor 'Placeholder_6:0' shape=(?,) dtype=float32>, 'Operational_Margin': <tf.Tensor 'Placeholder_7:0' shape=(?,) dtype=float32>, 'Return_Equity': <tf.Tensor 'Placeholder_8:0' shape=(?,) dtype=float32>, 'Market_Book_Ratio': <tf.Tensor 'Placeholder_9:0' shape=(?,) dtype=float32>, 'Assets_Growth': <tf.Tensor 'Placeholder_10:0' shape=(?,) dtype=float32>, 'Sales_Growth': <tf.Tensor 'Placeholder_11:0' shape=(?,) dtype=float32>, 'Employee_Growth': <tf.Tensor 'Placeholder_12:0' shape=(?,) dtype=float32>}\n",
      "INFO:tensorflow:'regression' : Regression input must be a single string Tensor; got {'Fiscal_year': <tf.Tensor 'Placeholder:0' shape=(?,) dtype=float64>, 'Tobin_Q': <tf.Tensor 'Placeholder_1:0' shape=(?,) dtype=float32>, 'EPS': <tf.Tensor 'Placeholder_2:0' shape=(?,) dtype=float32>, 'Profitability': <tf.Tensor 'Placeholder_3:0' shape=(?,) dtype=float32>, 'Productivity': <tf.Tensor 'Placeholder_4:0' shape=(?,) dtype=float32>, 'Leverage_Ratio': <tf.Tensor 'Placeholder_5:0' shape=(?,) dtype=float32>, 'Asset_Turnover': <tf.Tensor 'Placeholder_6:0' shape=(?,) dtype=float32>, 'Operational_Margin': <tf.Tensor 'Placeholder_7:0' shape=(?,) dtype=float32>, 'Return_Equity': <tf.Tensor 'Placeholder_8:0' shape=(?,) dtype=float32>, 'Market_Book_Ratio': <tf.Tensor 'Placeholder_9:0' shape=(?,) dtype=float32>, 'Assets_Growth': <tf.Tensor 'Placeholder_10:0' shape=(?,) dtype=float32>, 'Sales_Growth': <tf.Tensor 'Placeholder_11:0' shape=(?,) dtype=float32>, 'Employee_Growth': <tf.Tensor 'Placeholder_12:0' shape=(?,) dtype=float32>}\n",
      "WARNING:tensorflow:Export includes no default signature!\n",
      "INFO:tensorflow:Restoring parameters from logs\\model.ckpt-1000\n",
      "INFO:tensorflow:Assets added to graph.\n",
      "INFO:tensorflow:No assets to write.\n",
      "INFO:tensorflow:SavedModel written to: logs\\export\\exporter\\temp-b'1578018240'\\saved_model.pb\n",
      "INFO:tensorflow:Loss for final step: 2.5567744.\n"
     ]
    }
   ],
   "source": [
    "# Run the model function, train and evaluate on local\n",
    "# Tensorboard event file will be inside logs folder\n",
    "# TO DO: add task.py that takes CML and add hyper parameter configuration\n",
    "\n",
    "shutil.rmtree('logs', ignore_errors = True) # start fresh each time\n",
    "tf.summary.FileWriterCache.clear() # ensure filewriter cache is clear for TensorBoard events file\n",
    "tf_factory.train_and_evaluate('logs')"
   ]
  },
  {
   "cell_type": "code",
   "execution_count": null,
   "metadata": {},
   "outputs": [],
   "source": [
    "# Tensorboard can be opened from CML:\n",
    "# tensorboard --host 127.0.0.1 --logdir=logs"
   ]
  }
 ],
 "metadata": {
  "kernelspec": {
   "display_name": "Python 3",
   "language": "python",
   "name": "python3"
  },
  "language_info": {
   "codemirror_mode": {
    "name": "ipython",
    "version": 3
   },
   "file_extension": ".py",
   "mimetype": "text/x-python",
   "name": "python",
   "nbconvert_exporter": "python",
   "pygments_lexer": "ipython3",
   "version": "3.7.3"
  }
 },
 "nbformat": 4,
 "nbformat_minor": 2
}
