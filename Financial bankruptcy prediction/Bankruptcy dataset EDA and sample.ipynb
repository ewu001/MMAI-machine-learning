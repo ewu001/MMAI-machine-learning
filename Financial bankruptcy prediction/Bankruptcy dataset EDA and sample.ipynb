{
 "cells": [
  {
   "cell_type": "code",
   "execution_count": 7,
   "metadata": {},
   "outputs": [],
   "source": [
    "import pandas as pd\n",
    "import numpy as np\n",
    "import matplotlib.pyplot as plt\n",
    "\n",
    "from helper import util"
   ]
  },
  {
   "cell_type": "code",
   "execution_count": 8,
   "metadata": {},
   "outputs": [
    {
     "name": "stdout",
     "output_type": "stream",
     "text": [
      "(92872, 15)\n"
     ]
    },
    {
     "data": {
      "text/html": [
       "<div>\n",
       "<style scoped>\n",
       "    .dataframe tbody tr th:only-of-type {\n",
       "        vertical-align: middle;\n",
       "    }\n",
       "\n",
       "    .dataframe tbody tr th {\n",
       "        vertical-align: top;\n",
       "    }\n",
       "\n",
       "    .dataframe thead th {\n",
       "        text-align: right;\n",
       "    }\n",
       "</style>\n",
       "<table border=\"1\" class=\"dataframe\">\n",
       "  <thead>\n",
       "    <tr style=\"text-align: right;\">\n",
       "      <th></th>\n",
       "      <th>Data Year - Fiscal</th>\n",
       "      <th>Tobin's Q</th>\n",
       "      <th>EPS</th>\n",
       "      <th>Liquidity</th>\n",
       "      <th>Profitability</th>\n",
       "      <th>Productivity</th>\n",
       "      <th>Leverage Ratio</th>\n",
       "      <th>Asset Turnover</th>\n",
       "      <th>Operational Margin</th>\n",
       "      <th>Return on Equity</th>\n",
       "      <th>Market Book Ratio</th>\n",
       "      <th>Assets Growth</th>\n",
       "      <th>Sales Growth</th>\n",
       "      <th>Employee Growth</th>\n",
       "      <th>BK</th>\n",
       "    </tr>\n",
       "  </thead>\n",
       "  <tbody>\n",
       "    <tr>\n",
       "      <th>0</th>\n",
       "      <td>1979</td>\n",
       "      <td>0.98</td>\n",
       "      <td>1.58</td>\n",
       "      <td>0.36</td>\n",
       "      <td>0.18</td>\n",
       "      <td>0.13</td>\n",
       "      <td>1.33</td>\n",
       "      <td>1.77</td>\n",
       "      <td>0.07</td>\n",
       "      <td>0.15</td>\n",
       "      <td>2.22</td>\n",
       "      <td>NaN</td>\n",
       "      <td>NaN</td>\n",
       "      <td>NaN</td>\n",
       "      <td>0</td>\n",
       "    </tr>\n",
       "    <tr>\n",
       "      <th>1</th>\n",
       "      <td>1980</td>\n",
       "      <td>0.98</td>\n",
       "      <td>1.41</td>\n",
       "      <td>0.36</td>\n",
       "      <td>0.19</td>\n",
       "      <td>0.12</td>\n",
       "      <td>1.31</td>\n",
       "      <td>1.59</td>\n",
       "      <td>0.07</td>\n",
       "      <td>0.13</td>\n",
       "      <td>2.41</td>\n",
       "      <td>0.126319</td>\n",
       "      <td>0.014278</td>\n",
       "      <td>0.040179</td>\n",
       "      <td>0</td>\n",
       "    </tr>\n",
       "    <tr>\n",
       "      <th>2</th>\n",
       "      <td>1981</td>\n",
       "      <td>0.87</td>\n",
       "      <td>0.31</td>\n",
       "      <td>0.32</td>\n",
       "      <td>0.13</td>\n",
       "      <td>0.08</td>\n",
       "      <td>1.03</td>\n",
       "      <td>1.55</td>\n",
       "      <td>0.05</td>\n",
       "      <td>0.04</td>\n",
       "      <td>2.56</td>\n",
       "      <td>0.368077</td>\n",
       "      <td>0.327909</td>\n",
       "      <td>0.566524</td>\n",
       "      <td>0</td>\n",
       "    </tr>\n",
       "    <tr>\n",
       "      <th>3</th>\n",
       "      <td>1982</td>\n",
       "      <td>1.13</td>\n",
       "      <td>0.71</td>\n",
       "      <td>0.28</td>\n",
       "      <td>0.14</td>\n",
       "      <td>0.08</td>\n",
       "      <td>0.80</td>\n",
       "      <td>1.39</td>\n",
       "      <td>0.06</td>\n",
       "      <td>0.05</td>\n",
       "      <td>5.28</td>\n",
       "      <td>-0.020809</td>\n",
       "      <td>-0.118904</td>\n",
       "      <td>-0.095890</td>\n",
       "      <td>0</td>\n",
       "    </tr>\n",
       "    <tr>\n",
       "      <th>4</th>\n",
       "      <td>1983</td>\n",
       "      <td>1.26</td>\n",
       "      <td>0.75</td>\n",
       "      <td>0.41</td>\n",
       "      <td>0.13</td>\n",
       "      <td>0.08</td>\n",
       "      <td>0.20</td>\n",
       "      <td>1.30</td>\n",
       "      <td>0.06</td>\n",
       "      <td>0.04</td>\n",
       "      <td>8.68</td>\n",
       "      <td>0.233089</td>\n",
       "      <td>0.146807</td>\n",
       "      <td>0.053030</td>\n",
       "      <td>0</td>\n",
       "    </tr>\n",
       "  </tbody>\n",
       "</table>\n",
       "</div>"
      ],
      "text/plain": [
       "   Data Year - Fiscal  Tobin's Q   EPS  Liquidity  Profitability  \\\n",
       "0                1979       0.98  1.58       0.36           0.18   \n",
       "1                1980       0.98  1.41       0.36           0.19   \n",
       "2                1981       0.87  0.31       0.32           0.13   \n",
       "3                1982       1.13  0.71       0.28           0.14   \n",
       "4                1983       1.26  0.75       0.41           0.13   \n",
       "\n",
       "   Productivity  Leverage Ratio  Asset Turnover  Operational Margin  \\\n",
       "0          0.13            1.33            1.77                0.07   \n",
       "1          0.12            1.31            1.59                0.07   \n",
       "2          0.08            1.03            1.55                0.05   \n",
       "3          0.08            0.80            1.39                0.06   \n",
       "4          0.08            0.20            1.30                0.06   \n",
       "\n",
       "   Return on Equity  Market Book Ratio  Assets Growth  Sales Growth  \\\n",
       "0              0.15               2.22            NaN           NaN   \n",
       "1              0.13               2.41       0.126319      0.014278   \n",
       "2              0.04               2.56       0.368077      0.327909   \n",
       "3              0.05               5.28      -0.020809     -0.118904   \n",
       "4              0.04               8.68       0.233089      0.146807   \n",
       "\n",
       "   Employee Growth  BK  \n",
       "0              NaN   0  \n",
       "1         0.040179   0  \n",
       "2         0.566524   0  \n",
       "3        -0.095890   0  \n",
       "4         0.053030   0  "
      ]
     },
     "execution_count": 8,
     "metadata": {},
     "output_type": "execute_result"
    }
   ],
   "source": [
    "# load raw data into memory\n",
    "\n",
    "raw_data = pd.read_excel('data store/Bankruptcy_data_Final.xlsx')\n",
    "print(raw_data.shape)\n",
    "raw_data.head()"
   ]
  },
  {
   "cell_type": "code",
   "execution_count": 9,
   "metadata": {},
   "outputs": [
    {
     "name": "stdout",
     "output_type": "stream",
     "text": [
      "Liquidity         Profitability       0.470622\n",
      "                  Return on Equity    0.582335\n",
      "Profitability     Liquidity           0.470622\n",
      "                  Productivity        0.434535\n",
      "Productivity      Profitability       0.434535\n",
      "Return on Equity  Liquidity           0.582335\n",
      "dtype: float64\n",
      "BK                    1.000000\n",
      "Data Year - Fiscal    0.083014\n",
      "Asset Turnover        0.015191\n",
      "EPS                   0.007229\n",
      "Return on Equity      0.006530\n",
      "Profitability         0.002454\n",
      "Tobin's Q             0.001906\n",
      "Operational Margin    0.001756\n",
      "Employee Growth       0.001475\n",
      "Assets Growth         0.001393\n",
      "Productivity          0.001346\n",
      "Liquidity             0.001193\n",
      "Market Book Ratio     0.000882\n",
      "Sales Growth          0.000187\n",
      "Leverage Ratio        0.000148\n",
      "Name: BK, dtype: float64\n"
     ]
    }
   ],
   "source": [
    "# Find inter-correlation between features\n",
    "\n",
    "corr_feature_set = raw_data.copy()\n",
    "corr_matrix_all = corr_feature_set.corr().abs()\n",
    "corr_matrix_all[corr_matrix_all == 1] = 0\n",
    "\n",
    "high_cor_features = corr_matrix_all.unstack()\n",
    "print(high_cor_features[high_cor_features > 0.3])\n",
    "\n",
    "corr_matrix_target = raw_data.corr()['BK'].abs()\n",
    "print(corr_matrix_target.sort_values(ascending=False))\n"
   ]
  },
  {
   "cell_type": "code",
   "execution_count": 4,
   "metadata": {},
   "outputs": [
    {
     "data": {
      "image/png": "[encoded data removed]",
      "text/plain": [
       "<Figure size 432x288 with 1 Axes>"
      ]
     },
     "metadata": {
      "needs_background": "light"
     },
     "output_type": "display_data"
    },
    {
     "data": {
      "image/png": "[encoded data removed]",
      "text/plain": [
       "<Figure size 432x288 with 1 Axes>"
      ]
     },
     "metadata": {
      "needs_background": "light"
     },
     "output_type": "display_data"
    },
    {
     "data": {
      "image/png": "[encoded data removed]",
      "text/plain": [
       "<Figure size 432x288 with 1 Axes>"
      ]
     },
     "metadata": {
      "needs_background": "light"
     },
     "output_type": "display_data"
    },
    {
     "data": {
      "image/png": "[encoded data removed]",
      "text/plain": [
       "<Figure size 432x288 with 1 Axes>"
      ]
     },
     "metadata": {
      "needs_background": "light"
     },
     "output_type": "display_data"
    },
    {
     "data": {
      "image/png": "[encoded data removed]",
      "text/plain": [
       "<Figure size 432x288 with 1 Axes>"
      ]
     },
     "metadata": {
      "needs_background": "light"
     },
     "output_type": "display_data"
    }
   ],
   "source": [
    "# EDA module:\n",
    "bankruptch_records = raw_data[raw_data['BK']==1]\n",
    "\n",
    "df_year_target = bankruptch_records[[\"Data Year - Fiscal\", \"BK\"]]\n",
    "df_year_target = df_year_target.groupby(['Data Year - Fiscal']).agg('count')\n",
    "df_year_target.plot(kind='bar');\n",
    "\n",
    "# Asset turnover to target prediction that equals bankruptch\n",
    "df_turnover_target = bankruptch_records[[\"Data Year - Fiscal\", \"Asset Turnover\"]]\n",
    "df_turnover_target = df_turnover_target.groupby(['Data Year - Fiscal']).agg('mean')\n",
    "df_turnover_target.plot();\n",
    "\n",
    "# EPS to target prediction that equals bankruptch\n",
    "df_eps_target = bankruptch_records[[\"Data Year - Fiscal\", \"EPS\"]]\n",
    "df_eps_target = df_eps_target.groupby(['Data Year - Fiscal']).agg('mean')\n",
    "df_eps_target.plot();\n",
    "\n",
    "# Return on Equity to target prediction that equals bankruptch\n",
    "df_equityreturn_target = bankruptch_records[[\"Data Year - Fiscal\", \"Return on Equity\"]]\n",
    "df_equityreturn_target = df_equityreturn_target.groupby(['Data Year - Fiscal']).agg('mean')\n",
    "df_equityreturn_target.plot();\n",
    "\n",
    "# Profitability to target prediction that equals bankruptch\n",
    "df_profitability_target = bankruptch_records[[\"Data Year - Fiscal\", \"Profitability\"]]\n",
    "df_profitability_target = df_profitability_target.groupby(['Data Year - Fiscal']).agg('mean')\n",
    "df_profitability_target.plot();"
   ]
  },
  {
   "cell_type": "code",
   "execution_count": 11,
   "metadata": {},
   "outputs": [
    {
     "name": "stdout",
     "output_type": "stream",
     "text": [
      "Shape of dataframe: (92872, 15) \n"
     ]
    },
    {
     "data": {
      "text/html": [
       "<div>\n",
       "<style scoped>\n",
       "    .dataframe tbody tr th:only-of-type {\n",
       "        vertical-align: middle;\n",
       "    }\n",
       "\n",
       "    .dataframe tbody tr th {\n",
       "        vertical-align: top;\n",
       "    }\n",
       "\n",
       "    .dataframe thead th {\n",
       "        text-align: right;\n",
       "    }\n",
       "</style>\n",
       "<table border=\"1\" class=\"dataframe\">\n",
       "  <thead>\n",
       "    <tr style=\"text-align: right;\">\n",
       "      <th></th>\n",
       "      <th>Name</th>\n",
       "      <th>dtypes</th>\n",
       "      <th>Missing values</th>\n",
       "      <th>Unique values</th>\n",
       "      <th>First Value</th>\n",
       "      <th>Minimum</th>\n",
       "      <th>Maximum</th>\n",
       "    </tr>\n",
       "  </thead>\n",
       "  <tbody>\n",
       "    <tr>\n",
       "      <th>0</th>\n",
       "      <td>Data Year - Fiscal</td>\n",
       "      <td>int64</td>\n",
       "      <td>0</td>\n",
       "      <td>39</td>\n",
       "      <td>1979.00</td>\n",
       "      <td>1.979000e+03</td>\n",
       "      <td>2017.00</td>\n",
       "    </tr>\n",
       "    <tr>\n",
       "      <th>1</th>\n",
       "      <td>Tobin's Q</td>\n",
       "      <td>float64</td>\n",
       "      <td>252</td>\n",
       "      <td>8559</td>\n",
       "      <td>0.98</td>\n",
       "      <td>9.283364e-03</td>\n",
       "      <td>194537.67</td>\n",
       "    </tr>\n",
       "    <tr>\n",
       "      <th>2</th>\n",
       "      <td>EPS</td>\n",
       "      <td>float64</td>\n",
       "      <td>5</td>\n",
       "      <td>6987</td>\n",
       "      <td>1.58</td>\n",
       "      <td>-3.840000e+05</td>\n",
       "      <td>55339.00</td>\n",
       "    </tr>\n",
       "    <tr>\n",
       "      <th>3</th>\n",
       "      <td>Liquidity</td>\n",
       "      <td>float64</td>\n",
       "      <td>247</td>\n",
       "      <td>6108</td>\n",
       "      <td>0.36</td>\n",
       "      <td>-2.596852e+04</td>\n",
       "      <td>1.00</td>\n",
       "    </tr>\n",
       "    <tr>\n",
       "      <th>4</th>\n",
       "      <td>Profitability</td>\n",
       "      <td>float64</td>\n",
       "      <td>247</td>\n",
       "      <td>9363</td>\n",
       "      <td>0.18</td>\n",
       "      <td>-7.968200e+04</td>\n",
       "      <td>140.58</td>\n",
       "    </tr>\n",
       "    <tr>\n",
       "      <th>5</th>\n",
       "      <td>Productivity</td>\n",
       "      <td>float64</td>\n",
       "      <td>247</td>\n",
       "      <td>6075</td>\n",
       "      <td>0.13</td>\n",
       "      <td>-5.093000e+03</td>\n",
       "      <td>1102.00</td>\n",
       "    </tr>\n",
       "    <tr>\n",
       "      <th>6</th>\n",
       "      <td>Leverage Ratio</td>\n",
       "      <td>float64</td>\n",
       "      <td>26</td>\n",
       "      <td>6936</td>\n",
       "      <td>1.33</td>\n",
       "      <td>-7.811000e+03</td>\n",
       "      <td>75970.38</td>\n",
       "    </tr>\n",
       "    <tr>\n",
       "      <th>7</th>\n",
       "      <td>Asset Turnover</td>\n",
       "      <td>float64</td>\n",
       "      <td>247</td>\n",
       "      <td>5051</td>\n",
       "      <td>1.77</td>\n",
       "      <td>-3.159000e+01</td>\n",
       "      <td>276.38</td>\n",
       "    </tr>\n",
       "    <tr>\n",
       "      <th>8</th>\n",
       "      <td>Operational Margin</td>\n",
       "      <td>float64</td>\n",
       "      <td>5557</td>\n",
       "      <td>7485</td>\n",
       "      <td>0.07</td>\n",
       "      <td>-3.017570e+04</td>\n",
       "      <td>394.47</td>\n",
       "    </tr>\n",
       "    <tr>\n",
       "      <th>9</th>\n",
       "      <td>Return on Equity</td>\n",
       "      <td>float64</td>\n",
       "      <td>8</td>\n",
       "      <td>5750</td>\n",
       "      <td>0.15</td>\n",
       "      <td>-8.887514e+04</td>\n",
       "      <td>39500.00</td>\n",
       "    </tr>\n",
       "    <tr>\n",
       "      <th>10</th>\n",
       "      <td>Market Book Ratio</td>\n",
       "      <td>float64</td>\n",
       "      <td>57</td>\n",
       "      <td>50336</td>\n",
       "      <td>2.22</td>\n",
       "      <td>-3.151500e+06</td>\n",
       "      <td>3455419.33</td>\n",
       "    </tr>\n",
       "    <tr>\n",
       "      <th>11</th>\n",
       "      <td>Assets Growth</td>\n",
       "      <td>float64</td>\n",
       "      <td>6701</td>\n",
       "      <td>85604</td>\n",
       "      <td>NaN</td>\n",
       "      <td>-1.000000e+00</td>\n",
       "      <td>14231.00</td>\n",
       "    </tr>\n",
       "    <tr>\n",
       "      <th>12</th>\n",
       "      <td>Sales Growth</td>\n",
       "      <td>float64</td>\n",
       "      <td>6701</td>\n",
       "      <td>80350</td>\n",
       "      <td>NaN</td>\n",
       "      <td>-2.743103e+01</td>\n",
       "      <td>39850.00</td>\n",
       "    </tr>\n",
       "    <tr>\n",
       "      <th>13</th>\n",
       "      <td>Employee Growth</td>\n",
       "      <td>float64</td>\n",
       "      <td>7010</td>\n",
       "      <td>49532</td>\n",
       "      <td>NaN</td>\n",
       "      <td>-1.000000e+00</td>\n",
       "      <td>2699.00</td>\n",
       "    </tr>\n",
       "    <tr>\n",
       "      <th>14</th>\n",
       "      <td>BK</td>\n",
       "      <td>int64</td>\n",
       "      <td>0</td>\n",
       "      <td>2</td>\n",
       "      <td>0.00</td>\n",
       "      <td>0.000000e+00</td>\n",
       "      <td>1.00</td>\n",
       "    </tr>\n",
       "  </tbody>\n",
       "</table>\n",
       "</div>"
      ],
      "text/plain": [
       "                  Name   dtypes  Missing values  Unique values  First Value  \\\n",
       "0   Data Year - Fiscal    int64               0             39      1979.00   \n",
       "1            Tobin's Q  float64             252           8559         0.98   \n",
       "2                  EPS  float64               5           6987         1.58   \n",
       "3            Liquidity  float64             247           6108         0.36   \n",
       "4        Profitability  float64             247           9363         0.18   \n",
       "5         Productivity  float64             247           6075         0.13   \n",
       "6       Leverage Ratio  float64              26           6936         1.33   \n",
       "7       Asset Turnover  float64             247           5051         1.77   \n",
       "8   Operational Margin  float64            5557           7485         0.07   \n",
       "9     Return on Equity  float64               8           5750         0.15   \n",
       "10   Market Book Ratio  float64              57          50336         2.22   \n",
       "11       Assets Growth  float64            6701          85604          NaN   \n",
       "12        Sales Growth  float64            6701          80350          NaN   \n",
       "13     Employee Growth  float64            7010          49532          NaN   \n",
       "14                  BK    int64               0              2         0.00   \n",
       "\n",
       "         Minimum     Maximum  \n",
       "0   1.979000e+03     2017.00  \n",
       "1   9.283364e-03   194537.67  \n",
       "2  -3.840000e+05    55339.00  \n",
       "3  -2.596852e+04        1.00  \n",
       "4  -7.968200e+04      140.58  \n",
       "5  -5.093000e+03     1102.00  \n",
       "6  -7.811000e+03    75970.38  \n",
       "7  -3.159000e+01      276.38  \n",
       "8  -3.017570e+04      394.47  \n",
       "9  -8.887514e+04    39500.00  \n",
       "10 -3.151500e+06  3455419.33  \n",
       "11 -1.000000e+00    14231.00  \n",
       "12 -2.743103e+01    39850.00  \n",
       "13 -1.000000e+00     2699.00  \n",
       "14  0.000000e+00        1.00  "
      ]
     },
     "execution_count": 11,
     "metadata": {},
     "output_type": "execute_result"
    }
   ],
   "source": [
    "# Exploratory data analysis:\n",
    "# Check for missing, unique, min and max of each column\n",
    "\n",
    "df_explore = util.df_explore_helper(raw_data)\n",
    "df_explore\n"
   ]
  },
  {
   "cell_type": "code",
   "execution_count": 12,
   "metadata": {},
   "outputs": [
    {
     "name": "stdout",
     "output_type": "stream",
     "text": [
      "<class 'pandas.core.frame.DataFrame'>\n",
      "RangeIndex: 92872 entries, 0 to 92871\n",
      "Data columns (total 15 columns):\n",
      "Data Year - Fiscal    92872 non-null int64\n",
      "Tobin's Q             92620 non-null float64\n",
      "EPS                   92867 non-null float64\n",
      "Liquidity             92625 non-null float64\n",
      "Profitability         92625 non-null float64\n",
      "Productivity          92625 non-null float64\n",
      "Leverage Ratio        92846 non-null float64\n",
      "Asset Turnover        92625 non-null float64\n",
      "Operational Margin    87315 non-null float64\n",
      "Return on Equity      92864 non-null float64\n",
      "Market Book Ratio     92815 non-null float64\n",
      "Assets Growth         86171 non-null float64\n",
      "Sales Growth          86171 non-null float64\n",
      "Employee Growth       85862 non-null float64\n",
      "BK                    92872 non-null int64\n",
      "dtypes: float64(13), int64(2)\n",
      "memory usage: 10.6 MB\n"
     ]
    },
    {
     "data": {
      "text/plain": [
       "Index(['Data Year - Fiscal', 'Tobin's Q', 'EPS', 'Liquidity', 'Profitability',\n",
       "       'Productivity', 'Leverage Ratio', 'Asset Turnover',\n",
       "       'Operational Margin', 'Return on Equity', 'Market Book Ratio',\n",
       "       'Assets Growth', 'Sales Growth', 'Employee Growth', 'BK'],\n",
       "      dtype='object')"
      ]
     },
     "execution_count": 12,
     "metadata": {},
     "output_type": "execute_result"
    }
   ],
   "source": [
    "raw_data.info()\n",
    "raw_data.columns"
   ]
  },
  {
   "cell_type": "code",
   "execution_count": 13,
   "metadata": {},
   "outputs": [
    {
     "name": "stdout",
     "output_type": "stream",
     "text": [
      "bankruptcy number:  (558, 15)\n",
      "non bankruptcy number:  (92314, 15)\n"
     ]
    },
    {
     "data": {
      "text/plain": [
       "<Figure size 432x288 with 0 Axes>"
      ]
     },
     "metadata": {},
     "output_type": "display_data"
    },
    {
     "data": {
      "image/png": "[encoded data removed]",
      "text/plain": [
       "<Figure size 720x360 with 1 Axes>"
      ]
     },
     "metadata": {
      "needs_background": "light"
     },
     "output_type": "display_data"
    }
   ],
   "source": [
    "# Data sampling \n",
    "\n",
    "# Look at the binary target distribution of our prediction\n",
    "# Plot the target distribution of bankruptcy against non bankruptcy record count\n",
    "\n",
    "target_dist = raw_data['BK']\n",
    "\n",
    "plt.clf()\n",
    "plt.figure(figsize=(10,5))\n",
    "target=target_dist.value_counts()\n",
    "plt.bar(target.index,target)\n",
    "plt.gca().set_xticks([0,1])\n",
    "plt.title('distribution of target variable')\n",
    "\n",
    "\n",
    "display()\n",
    "\n",
    "bk_company_num = raw_data[raw_data['BK'] == 1]\n",
    "non_bk_company_num = raw_data[raw_data['BK'] == 0]\n",
    "print(\"bankruptcy number: \", bk_company_num.shape)\n",
    "print(\"non bankruptcy number: \", non_bk_company_num.shape)\n"
   ]
  },
  {
   "cell_type": "code",
   "execution_count": 14,
   "metadata": {},
   "outputs": [
    {
     "name": "stdout",
     "output_type": "stream",
     "text": [
      "(100, 15)\n",
      "(92770, 15)\n",
      "Completed\n"
     ]
    },
    {
     "data": {
      "text/plain": [
       "True"
      ]
     },
     "execution_count": 14,
     "metadata": {},
     "output_type": "execute_result"
    }
   ],
   "source": [
    "# Data sampling for train and evaluation\n",
    "\n",
    "# generate evaluation set, and training set from raw data and store to warehouse\n",
    "# evaluation set will be used after model is done training, and should be balanced between 50%/50% target binary value split\n",
    "\n",
    "util.eval_train_generator(raw_data, target=\"BK\", split_number=50)"
   ]
  },
  {
   "cell_type": "code",
   "execution_count": 5,
   "metadata": {},
   "outputs": [],
   "source": [
    "features_dropna = [\"Tobin's Q\", \"EPS\", \"Leverage Ratio\", \"Return on Equity\", \"Market Book Ratio\", \"Operational Margin\", \"Assets Growth\", \"Productivity\", \"Sales Growth\", \"Employee Growth\"]\n",
    "features_impute = [\"Liquidity\", \"Profitability\", \"Asset Turnover\"]\n",
    "features_todrop = [\"Unnamed: 0\", \"Liquidity\"]\n",
    "target = \"BK\""
   ]
  },
  {
   "cell_type": "code",
   "execution_count": null,
   "metadata": {},
   "outputs": [],
   "source": []
  }
 ],
 "metadata": {
  "kernelspec": {
   "display_name": "Python 3",
   "language": "python",
   "name": "python3"
  },
  "language_info": {
   "codemirror_mode": {
    "name": "ipython",
    "version": 3
   },
   "file_extension": ".py",
   "mimetype": "text/x-python",
   "name": "python",
   "nbconvert_exporter": "python",
   "pygments_lexer": "ipython3",
   "version": "3.7.3"
  }
 },
 "nbformat": 4,
 "nbformat_minor": 2
}
