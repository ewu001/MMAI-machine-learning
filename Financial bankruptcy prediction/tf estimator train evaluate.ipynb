{
 "cells": [
  {
   "cell_type": "code",
   "execution_count": 10,
   "metadata": {},
   "outputs": [],
   "source": [
    "import shutil\n",
    "import tensorflow as tf\n"
   ]
  },
  {
   "cell_type": "code",
   "execution_count": null,
   "metadata": {},
   "outputs": [],
   "source": [
    "# Tensorboard locally can be opened from CML:\n",
    "# Go to the parent directory of logdir\n",
    "\n",
    "# tensorboard --host 127.0.0.1 --logdir=logs"
   ]
  },
  {
   "cell_type": "code",
   "execution_count": 16,
   "metadata": {},
   "outputs": [],
   "source": [
    "# Run the model function, train and evaluate\n",
    "\n",
    "shutil.rmtree('logs', ignore_errors = True) # start fresh each time\n",
    "tf.summary.FileWriterCache.clear() # ensure filewriter cache is clear for TensorBoard events file\n",
    "\n",
    "\n",
    "# Sample command line inputs:\n",
    "#!python -m estimator_model.tf_task --output_dir=logs --train_examples=5000 --batch_size=256 --nnsize 64 32 16 \n",
    "#!python -m estimator_model.tf_task --output_dir=logs --train_examples=3000 --nnsize 32 16 8\n",
    "#!python -m estimator_model.tf_task --output_dir=logs --train_examples=1000 --batch_size=128"
   ]
  },
  {
   "cell_type": "code",
   "execution_count": null,
   "metadata": {},
   "outputs": [],
   "source": []
  }
 ],
 "metadata": {
  "kernelspec": {
   "display_name": "Python 3",
   "language": "python",
   "name": "python3"
  },
  "language_info": {
   "codemirror_mode": {
    "name": "ipython",
    "version": 3
   },
   "file_extension": ".py",
   "mimetype": "text/x-python",
   "name": "python",
   "nbconvert_exporter": "python",
   "pygments_lexer": "ipython3",
   "version": "3.7.3"
  }
 },
 "nbformat": 4,
 "nbformat_minor": 2
}
