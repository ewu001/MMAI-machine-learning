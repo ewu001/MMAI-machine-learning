{
 "cells": [
  {
   "cell_type": "code",
   "execution_count": 1,
   "metadata": {},
   "outputs": [],
   "source": [
    "import pandas as pd\n",
    "from sklearn.preprocessing import StandardScaler\n",
    "from sklearn.metrics import accuracy_score, confusion_matrix, roc_curve, auc, roc_auc_score\n",
    "\n",
    "import preprocess as preproc\n",
    "import util as utility\n",
    "import model as md"
   ]
  },
  {
   "cell_type": "code",
   "execution_count": 2,
   "metadata": {},
   "outputs": [
    {
     "name": "stdout",
     "output_type": "stream",
     "text": [
      "(92770, 16)\n"
     ]
    },
    {
     "data": {
      "text/html": [
       "<div>\n",
       "<style scoped>\n",
       "    .dataframe tbody tr th:only-of-type {\n",
       "        vertical-align: middle;\n",
       "    }\n",
       "\n",
       "    .dataframe tbody tr th {\n",
       "        vertical-align: top;\n",
       "    }\n",
       "\n",
       "    .dataframe thead th {\n",
       "        text-align: right;\n",
       "    }\n",
       "</style>\n",
       "<table border=\"1\" class=\"dataframe\">\n",
       "  <thead>\n",
       "    <tr style=\"text-align: right;\">\n",
       "      <th></th>\n",
       "      <th>Unnamed: 0</th>\n",
       "      <th>Data Year - Fiscal</th>\n",
       "      <th>Tobin's Q</th>\n",
       "      <th>EPS</th>\n",
       "      <th>Liquidity</th>\n",
       "      <th>Profitability</th>\n",
       "      <th>Productivity</th>\n",
       "      <th>Leverage Ratio</th>\n",
       "      <th>Asset Turnover</th>\n",
       "      <th>Operational Margin</th>\n",
       "      <th>Return on Equity</th>\n",
       "      <th>Market Book Ratio</th>\n",
       "      <th>Assets Growth</th>\n",
       "      <th>Sales Growth</th>\n",
       "      <th>Employee Growth</th>\n",
       "      <th>BK</th>\n",
       "    </tr>\n",
       "  </thead>\n",
       "  <tbody>\n",
       "    <tr>\n",
       "      <th>0</th>\n",
       "      <td>20255</td>\n",
       "      <td>2004</td>\n",
       "      <td>1.14</td>\n",
       "      <td>1.14</td>\n",
       "      <td>0.33</td>\n",
       "      <td>0.34</td>\n",
       "      <td>0.09</td>\n",
       "      <td>0.95</td>\n",
       "      <td>1.14</td>\n",
       "      <td>0.08</td>\n",
       "      <td>0.07</td>\n",
       "      <td>4.67</td>\n",
       "      <td>0.552115</td>\n",
       "      <td>0.204853</td>\n",
       "      <td>-0.165584</td>\n",
       "      <td>0</td>\n",
       "    </tr>\n",
       "    <tr>\n",
       "      <th>1</th>\n",
       "      <td>19027</td>\n",
       "      <td>1986</td>\n",
       "      <td>1.03</td>\n",
       "      <td>8.22</td>\n",
       "      <td>0.07</td>\n",
       "      <td>0.46</td>\n",
       "      <td>0.07</td>\n",
       "      <td>0.18</td>\n",
       "      <td>0.42</td>\n",
       "      <td>0.18</td>\n",
       "      <td>0.10</td>\n",
       "      <td>66.36</td>\n",
       "      <td>-0.001658</td>\n",
       "      <td>0.063550</td>\n",
       "      <td>-0.037619</td>\n",
       "      <td>0</td>\n",
       "    </tr>\n",
       "    <tr>\n",
       "      <th>2</th>\n",
       "      <td>78254</td>\n",
       "      <td>2005</td>\n",
       "      <td>1.10</td>\n",
       "      <td>1.04</td>\n",
       "      <td>0.02</td>\n",
       "      <td>0.02</td>\n",
       "      <td>0.06</td>\n",
       "      <td>0.65</td>\n",
       "      <td>0.14</td>\n",
       "      <td>0.45</td>\n",
       "      <td>0.08</td>\n",
       "      <td>16.34</td>\n",
       "      <td>NaN</td>\n",
       "      <td>NaN</td>\n",
       "      <td>NaN</td>\n",
       "      <td>0</td>\n",
       "    </tr>\n",
       "    <tr>\n",
       "      <th>3</th>\n",
       "      <td>61897</td>\n",
       "      <td>2000</td>\n",
       "      <td>0.59</td>\n",
       "      <td>-1.27</td>\n",
       "      <td>0.20</td>\n",
       "      <td>-2.82</td>\n",
       "      <td>-0.78</td>\n",
       "      <td>0.00</td>\n",
       "      <td>0.56</td>\n",
       "      <td>-1.38</td>\n",
       "      <td>-2.13</td>\n",
       "      <td>3.99</td>\n",
       "      <td>-0.428413</td>\n",
       "      <td>-0.075351</td>\n",
       "      <td>-0.444444</td>\n",
       "      <td>0</td>\n",
       "    </tr>\n",
       "    <tr>\n",
       "      <th>4</th>\n",
       "      <td>19327</td>\n",
       "      <td>1994</td>\n",
       "      <td>1.14</td>\n",
       "      <td>2.64</td>\n",
       "      <td>-0.03</td>\n",
       "      <td>0.11</td>\n",
       "      <td>0.08</td>\n",
       "      <td>1.09</td>\n",
       "      <td>0.41</td>\n",
       "      <td>0.20</td>\n",
       "      <td>0.09</td>\n",
       "      <td>19.36</td>\n",
       "      <td>0.047428</td>\n",
       "      <td>0.027269</td>\n",
       "      <td>0.018307</td>\n",
       "      <td>0</td>\n",
       "    </tr>\n",
       "  </tbody>\n",
       "</table>\n",
       "</div>"
      ],
      "text/plain": [
       "   Unnamed: 0  Data Year - Fiscal  Tobin's Q   EPS  Liquidity  Profitability  \\\n",
       "0       20255                2004       1.14  1.14       0.33           0.34   \n",
       "1       19027                1986       1.03  8.22       0.07           0.46   \n",
       "2       78254                2005       1.10  1.04       0.02           0.02   \n",
       "3       61897                2000       0.59 -1.27       0.20          -2.82   \n",
       "4       19327                1994       1.14  2.64      -0.03           0.11   \n",
       "\n",
       "   Productivity  Leverage Ratio  Asset Turnover  Operational Margin  \\\n",
       "0          0.09            0.95            1.14                0.08   \n",
       "1          0.07            0.18            0.42                0.18   \n",
       "2          0.06            0.65            0.14                0.45   \n",
       "3         -0.78            0.00            0.56               -1.38   \n",
       "4          0.08            1.09            0.41                0.20   \n",
       "\n",
       "   Return on Equity  Market Book Ratio  Assets Growth  Sales Growth  \\\n",
       "0              0.07               4.67       0.552115      0.204853   \n",
       "1              0.10              66.36      -0.001658      0.063550   \n",
       "2              0.08              16.34            NaN           NaN   \n",
       "3             -2.13               3.99      -0.428413     -0.075351   \n",
       "4              0.09              19.36       0.047428      0.027269   \n",
       "\n",
       "   Employee Growth  BK  \n",
       "0        -0.165584   0  \n",
       "1        -0.037619   0  \n",
       "2              NaN   0  \n",
       "3        -0.444444   0  \n",
       "4         0.018307   0  "
      ]
     },
     "execution_count": 2,
     "metadata": {},
     "output_type": "execute_result"
    }
   ],
   "source": [
    "train_data = pd.read_csv('data store/training_dataset.csv')\n",
    "print(train_data.shape)\n",
    "train_data.head()\n"
   ]
  },
  {
   "cell_type": "code",
   "execution_count": 3,
   "metadata": {},
   "outputs": [
    {
     "name": "stdout",
     "output_type": "stream",
     "text": [
      "before processing:  (92770, 16)\n"
     ]
    }
   ],
   "source": [
    "#  Prepare preprocessor \n",
    "#  Go through transformation process and generate processed dataframe\n",
    "\n",
    "features_dropna = [\"Tobin's Q\", \"EPS\", \"Leverage Ratio\", \"Return on Equity\", \"Market Book Ratio\", \"Operational Margin\", \"Assets Growth\", \"Productivity\", \"Sales Growth\", \"Employee Growth\"]\n",
    "features_impute = [\"Liquidity\", \"Profitability\", \"Asset Turnover\"]\n",
    "features_todrop = [\"Unnamed: 0\", \"Liquidity\"]\n",
    "target = \"BK\"\n",
    "train_data_object = preproc.preprocessor(train_data)\n",
    "\n",
    "processed_df = preproc.feature_preprocessor(train_data_object, features_dropna, features_impute, features_todrop, target)"
   ]
  },
  {
   "cell_type": "code",
   "execution_count": 4,
   "metadata": {},
   "outputs": [
    {
     "name": "stdout",
     "output_type": "stream",
     "text": [
      "Shape of dataframe: (81114, 14) \n"
     ]
    },
    {
     "data": {
      "text/html": [
       "<div>\n",
       "<style scoped>\n",
       "    .dataframe tbody tr th:only-of-type {\n",
       "        vertical-align: middle;\n",
       "    }\n",
       "\n",
       "    .dataframe tbody tr th {\n",
       "        vertical-align: top;\n",
       "    }\n",
       "\n",
       "    .dataframe thead th {\n",
       "        text-align: right;\n",
       "    }\n",
       "</style>\n",
       "<table border=\"1\" class=\"dataframe\">\n",
       "  <thead>\n",
       "    <tr style=\"text-align: right;\">\n",
       "      <th></th>\n",
       "      <th>Name</th>\n",
       "      <th>dtypes</th>\n",
       "      <th>Missing values</th>\n",
       "      <th>Unique values</th>\n",
       "      <th>First Value</th>\n",
       "      <th>Minimum</th>\n",
       "      <th>Maximum</th>\n",
       "    </tr>\n",
       "  </thead>\n",
       "  <tbody>\n",
       "    <tr>\n",
       "      <th>0</th>\n",
       "      <td>Data Year - Fiscal</td>\n",
       "      <td>float64</td>\n",
       "      <td>0</td>\n",
       "      <td>38</td>\n",
       "      <td>-0.018859</td>\n",
       "      <td>-2.498650</td>\n",
       "      <td>1.324361</td>\n",
       "    </tr>\n",
       "    <tr>\n",
       "      <th>1</th>\n",
       "      <td>Tobin's Q</td>\n",
       "      <td>float64</td>\n",
       "      <td>0</td>\n",
       "      <td>6082</td>\n",
       "      <td>-0.032974</td>\n",
       "      <td>-0.041438</td>\n",
       "      <td>203.482453</td>\n",
       "    </tr>\n",
       "    <tr>\n",
       "      <th>2</th>\n",
       "      <td>EPS</td>\n",
       "      <td>float64</td>\n",
       "      <td>0</td>\n",
       "      <td>5945</td>\n",
       "      <td>0.007342</td>\n",
       "      <td>-163.778240</td>\n",
       "      <td>23.610250</td>\n",
       "    </tr>\n",
       "    <tr>\n",
       "      <th>3</th>\n",
       "      <td>Profitability</td>\n",
       "      <td>float64</td>\n",
       "      <td>0</td>\n",
       "      <td>7027</td>\n",
       "      <td>0.035573</td>\n",
       "      <td>-96.644515</td>\n",
       "      <td>0.555093</td>\n",
       "    </tr>\n",
       "    <tr>\n",
       "      <th>4</th>\n",
       "      <td>Productivity</td>\n",
       "      <td>float64</td>\n",
       "      <td>0</td>\n",
       "      <td>4461</td>\n",
       "      <td>0.051030</td>\n",
       "      <td>-177.318602</td>\n",
       "      <td>5.171653</td>\n",
       "    </tr>\n",
       "    <tr>\n",
       "      <th>5</th>\n",
       "      <td>Leverage Ratio</td>\n",
       "      <td>float64</td>\n",
       "      <td>0</td>\n",
       "      <td>5943</td>\n",
       "      <td>-0.002026</td>\n",
       "      <td>-28.861493</td>\n",
       "      <td>280.649696</td>\n",
       "    </tr>\n",
       "    <tr>\n",
       "      <th>6</th>\n",
       "      <td>Asset Turnover</td>\n",
       "      <td>float64</td>\n",
       "      <td>0</td>\n",
       "      <td>4148</td>\n",
       "      <td>0.007022</td>\n",
       "      <td>-14.752548</td>\n",
       "      <td>124.126299</td>\n",
       "    </tr>\n",
       "    <tr>\n",
       "      <th>7</th>\n",
       "      <td>Operational Margin</td>\n",
       "      <td>float64</td>\n",
       "      <td>0</td>\n",
       "      <td>6313</td>\n",
       "      <td>0.035441</td>\n",
       "      <td>-140.161903</td>\n",
       "      <td>1.867786</td>\n",
       "    </tr>\n",
       "    <tr>\n",
       "      <th>8</th>\n",
       "      <td>Return on Equity</td>\n",
       "      <td>float64</td>\n",
       "      <td>0</td>\n",
       "      <td>4606</td>\n",
       "      <td>0.007970</td>\n",
       "      <td>-254.970235</td>\n",
       "      <td>32.222737</td>\n",
       "    </tr>\n",
       "    <tr>\n",
       "      <th>9</th>\n",
       "      <td>Market Book Ratio</td>\n",
       "      <td>float64</td>\n",
       "      <td>0</td>\n",
       "      <td>44688</td>\n",
       "      <td>-0.029011</td>\n",
       "      <td>-160.284248</td>\n",
       "      <td>70.875573</td>\n",
       "    </tr>\n",
       "    <tr>\n",
       "      <th>10</th>\n",
       "      <td>Assets Growth</td>\n",
       "      <td>float64</td>\n",
       "      <td>0</td>\n",
       "      <td>80976</td>\n",
       "      <td>-0.006506</td>\n",
       "      <td>-0.030761</td>\n",
       "      <td>222.431250</td>\n",
       "    </tr>\n",
       "    <tr>\n",
       "      <th>11</th>\n",
       "      <td>Sales Growth</td>\n",
       "      <td>float64</td>\n",
       "      <td>0</td>\n",
       "      <td>79890</td>\n",
       "      <td>-0.009840</td>\n",
       "      <td>-0.160797</td>\n",
       "      <td>217.664568</td>\n",
       "    </tr>\n",
       "    <tr>\n",
       "      <th>12</th>\n",
       "      <td>Employee Growth</td>\n",
       "      <td>float64</td>\n",
       "      <td>0</td>\n",
       "      <td>48006</td>\n",
       "      <td>-0.035420</td>\n",
       "      <td>-0.093271</td>\n",
       "      <td>187.101400</td>\n",
       "    </tr>\n",
       "    <tr>\n",
       "      <th>13</th>\n",
       "      <td>BK</td>\n",
       "      <td>int64</td>\n",
       "      <td>0</td>\n",
       "      <td>2</td>\n",
       "      <td>0.000000</td>\n",
       "      <td>0.000000</td>\n",
       "      <td>1.000000</td>\n",
       "    </tr>\n",
       "  </tbody>\n",
       "</table>\n",
       "</div>"
      ],
      "text/plain": [
       "                  Name   dtypes  Missing values  Unique values  First Value  \\\n",
       "0   Data Year - Fiscal  float64               0             38    -0.018859   \n",
       "1            Tobin's Q  float64               0           6082    -0.032974   \n",
       "2                  EPS  float64               0           5945     0.007342   \n",
       "3        Profitability  float64               0           7027     0.035573   \n",
       "4         Productivity  float64               0           4461     0.051030   \n",
       "5       Leverage Ratio  float64               0           5943    -0.002026   \n",
       "6       Asset Turnover  float64               0           4148     0.007022   \n",
       "7   Operational Margin  float64               0           6313     0.035441   \n",
       "8     Return on Equity  float64               0           4606     0.007970   \n",
       "9    Market Book Ratio  float64               0          44688    -0.029011   \n",
       "10       Assets Growth  float64               0          80976    -0.006506   \n",
       "11        Sales Growth  float64               0          79890    -0.009840   \n",
       "12     Employee Growth  float64               0          48006    -0.035420   \n",
       "13                  BK    int64               0              2     0.000000   \n",
       "\n",
       "       Minimum     Maximum  \n",
       "0    -2.498650    1.324361  \n",
       "1    -0.041438  203.482453  \n",
       "2  -163.778240   23.610250  \n",
       "3   -96.644515    0.555093  \n",
       "4  -177.318602    5.171653  \n",
       "5   -28.861493  280.649696  \n",
       "6   -14.752548  124.126299  \n",
       "7  -140.161903    1.867786  \n",
       "8  -254.970235   32.222737  \n",
       "9  -160.284248   70.875573  \n",
       "10   -0.030761  222.431250  \n",
       "11   -0.160797  217.664568  \n",
       "12   -0.093271  187.101400  \n",
       "13    0.000000    1.000000  "
      ]
     },
     "execution_count": 4,
     "metadata": {},
     "output_type": "execute_result"
    }
   ],
   "source": [
    "df_explore = utility.df_explore_helper(processed_df)\n",
    "df_explore"
   ]
  },
  {
   "cell_type": "code",
   "execution_count": 5,
   "metadata": {},
   "outputs": [
    {
     "name": "stdout",
     "output_type": "stream",
     "text": [
      "X_train size:  (64891, 13)\n"
     ]
    },
    {
     "name": "stderr",
     "output_type": "stream",
     "text": [
      "C:\\Users\\junsh\\AppData\\Local\\Continuum\\anaconda3\\lib\\site-packages\\sklearn\\linear_model\\logistic.py:432: FutureWarning: Default solver will be changed to 'lbfgs' in 0.22. Specify a solver to silence this warning.\n",
      "  FutureWarning)\n"
     ]
    },
    {
     "name": "stdout",
     "output_type": "stream",
     "text": [
      "Accuracy :  0.9955002157430808\n",
      "[[16150     0]\n",
      " [   73     0]]\n"
     ]
    },
    {
     "name": "stderr",
     "output_type": "stream",
     "text": [
      "C:\\Users\\junsh\\AppData\\Local\\Continuum\\anaconda3\\lib\\site-packages\\sklearn\\linear_model\\logistic.py:432: FutureWarning: Default solver will be changed to 'lbfgs' in 0.22. Specify a solver to silence this warning.\n",
      "  FutureWarning)\n",
      "C:\\Users\\junsh\\AppData\\Local\\Continuum\\anaconda3\\lib\\site-packages\\sklearn\\linear_model\\logistic.py:432: FutureWarning: Default solver will be changed to 'lbfgs' in 0.22. Specify a solver to silence this warning.\n",
      "  FutureWarning)\n",
      "C:\\Users\\junsh\\AppData\\Local\\Continuum\\anaconda3\\lib\\site-packages\\sklearn\\linear_model\\logistic.py:432: FutureWarning: Default solver will be changed to 'lbfgs' in 0.22. Specify a solver to silence this warning.\n",
      "  FutureWarning)\n",
      "C:\\Users\\junsh\\AppData\\Local\\Continuum\\anaconda3\\lib\\site-packages\\sklearn\\linear_model\\logistic.py:432: FutureWarning: Default solver will be changed to 'lbfgs' in 0.22. Specify a solver to silence this warning.\n",
      "  FutureWarning)\n",
      "C:\\Users\\junsh\\AppData\\Local\\Continuum\\anaconda3\\lib\\site-packages\\sklearn\\linear_model\\logistic.py:432: FutureWarning: Default solver will be changed to 'lbfgs' in 0.22. Specify a solver to silence this warning.\n",
      "  FutureWarning)\n"
     ]
    },
    {
     "name": "stdout",
     "output_type": "stream",
     "text": [
      "CV with K-Fold roc_auc score: 0.787 (+/- 0.04)\n"
     ]
    },
    {
     "data": {
      "image/png": "[encoded data removed]",
      "text/plain": [
       "<Figure size 432x288 with 1 Axes>"
      ]
     },
     "metadata": {
      "needs_background": "light"
     },
     "output_type": "display_data"
    }
   ],
   "source": [
    "y = processed_df[\"BK\"]\n",
    "X = processed_df.drop([\"BK\"], axis=1)\n",
    "\n",
    "lr_model = md.logistic_regression()\n",
    "holdout_lr = md.train_tuning(lr_model, X, y)\n",
    "kfold_lr = md.train_kfold_cv(lr_model, X, y, 5, \"roc_auc\")\n",
    "md.roc_auc_plot(kfold_lr, X, y)\n",
    "display()"
   ]
  },
  {
   "cell_type": "code",
   "execution_count": 6,
   "metadata": {},
   "outputs": [
    {
     "name": "stdout",
     "output_type": "stream",
     "text": [
      "X_train size:  (64891, 13)\n",
      "Accuracy :  0.08937927633606609\n",
      "[[ 1379 14771]\n",
      " [    2    71]]\n",
      "CV with K-Fold roc_auc score: 0.695 (+/- 0.08)\n"
     ]
    },
    {
     "data": {
      "image/png": "[encoded data removed]",
      "text/plain": [
       "<Figure size 432x288 with 1 Axes>"
      ]
     },
     "metadata": {
      "needs_background": "light"
     },
     "output_type": "display_data"
    }
   ],
   "source": [
    "NB_model = md.naive_bayes()\n",
    "holdout_nb = md.train_tuning(NB_model, X, y)\n",
    "kfold_nb = md.train_kfold_cv(NB_model, X, y, 5, \"roc_auc\")\n",
    "md.roc_auc_plot(kfold_nb, X, y)\n",
    "display()"
   ]
  },
  {
   "cell_type": "code",
   "execution_count": 10,
   "metadata": {},
   "outputs": [
    {
     "name": "stdout",
     "output_type": "stream",
     "text": [
      "X_train size:  (64891, 13)\n",
      "Accuracy :  0.9955002157430808\n",
      "[[16150     0]\n",
      " [   73     0]]\n"
     ]
    },
    {
     "data": {
      "image/png": "[encoded data removed]",
      "text/plain": [
       "<Figure size 432x288 with 1 Axes>"
      ]
     },
     "metadata": {
      "needs_background": "light"
     },
     "output_type": "display_data"
    }
   ],
   "source": [
    "RF_model = md.random_forest()\n",
    "RF_params = {'n_estimators': [80, 100, 120], 'max_depth': [3,4,5], 'max_leaf_nodes': [14, 16]}\n",
    "\n",
    "RF_tuned = md.train_tuning(RF_model, X, y, RF_params, \"roc_auc\")\n",
    "md.roc_auc_plot(RF_tuned, X, y)\n",
    "display()"
   ]
  },
  {
   "cell_type": "code",
   "execution_count": 11,
   "metadata": {},
   "outputs": [
    {
     "name": "stdout",
     "output_type": "stream",
     "text": [
      "X_train size:  (64891, 13)\n",
      "Accuracy :  0.9941441163779818\n",
      "[[16121    29]\n",
      " [   66     7]]\n",
      "CV with K-Fold roc_auc score: 0.939 (+/- 0.01)\n"
     ]
    },
    {
     "data": {
      "image/png": "[encoded data removed]",
      "text/plain": [
       "<Figure size 432x288 with 1 Axes>"
      ]
     },
     "metadata": {
      "needs_background": "light"
     },
     "output_type": "display_data"
    }
   ],
   "source": [
    "GB_model = md.gradient_boosting()\n",
    "holdout_GB = md.train_tuning(GB_model, X, y)\n",
    "kfold_GB = md.train_kfold_cv(GB_model, X, y, 5, \"roc_auc\")\n",
    "md.roc_auc_plot(kfold_GB, X, y)\n",
    "display()"
   ]
  },
  {
   "cell_type": "code",
   "execution_count": 9,
   "metadata": {},
   "outputs": [
    {
     "name": "stdout",
     "output_type": "stream",
     "text": [
      "X_train size:  (64891, 13)\n",
      "Accuracy :  0.9955002157430808\n",
      "[[16150     0]\n",
      " [   73     0]]\n"
     ]
    },
    {
     "data": {
      "image/png": "[encoded data removed]",
      "text/plain": [
       "<Figure size 432x288 with 1 Axes>"
      ]
     },
     "metadata": {
      "needs_background": "light"
     },
     "output_type": "display_data"
    }
   ],
   "source": [
    "DT_model = md.decision_tree()\n",
    "DT_param = {'max_depth': [2,3,4,5,6,7,8], 'criterion': [\"gini\", \"entropy\"], 'max_leaf_nodes': [5, 10, 20]}\n",
    "DT_tuned = md.train_tuning(DT_model, X, y, DT_param, \"roc_auc\")\n",
    "md.roc_auc_plot(DT_tuned, X, y)\n",
    "display()"
   ]
  },
  {
   "cell_type": "code",
   "execution_count": 13,
   "metadata": {},
   "outputs": [
    {
     "name": "stdout",
     "output_type": "stream",
     "text": [
      "(100, 16)\n"
     ]
    }
   ],
   "source": [
    "# Evaluate on eval set:\n",
    "eval_data = pd.read_csv('data store/evaluation_dataset.csv')\n",
    "print(eval_data.shape)"
   ]
  },
  {
   "cell_type": "code",
   "execution_count": 14,
   "metadata": {},
   "outputs": [
    {
     "name": "stdout",
     "output_type": "stream",
     "text": [
      "before processing:  (100, 16)\n",
      "Shape of dataframe: (88, 14) \n"
     ]
    },
    {
     "data": {
      "text/html": [
       "<div>\n",
       "<style scoped>\n",
       "    .dataframe tbody tr th:only-of-type {\n",
       "        vertical-align: middle;\n",
       "    }\n",
       "\n",
       "    .dataframe tbody tr th {\n",
       "        vertical-align: top;\n",
       "    }\n",
       "\n",
       "    .dataframe thead th {\n",
       "        text-align: right;\n",
       "    }\n",
       "</style>\n",
       "<table border=\"1\" class=\"dataframe\">\n",
       "  <thead>\n",
       "    <tr style=\"text-align: right;\">\n",
       "      <th></th>\n",
       "      <th>Name</th>\n",
       "      <th>dtypes</th>\n",
       "      <th>Missing values</th>\n",
       "      <th>Unique values</th>\n",
       "      <th>First Value</th>\n",
       "      <th>Minimum</th>\n",
       "      <th>Maximum</th>\n",
       "    </tr>\n",
       "  </thead>\n",
       "  <tbody>\n",
       "    <tr>\n",
       "      <th>0</th>\n",
       "      <td>Data Year - Fiscal</td>\n",
       "      <td>float64</td>\n",
       "      <td>0</td>\n",
       "      <td>37</td>\n",
       "      <td>0.791639</td>\n",
       "      <td>-1.632245</td>\n",
       "      <td>1.689374</td>\n",
       "    </tr>\n",
       "    <tr>\n",
       "      <th>1</th>\n",
       "      <td>Tobin's Q</td>\n",
       "      <td>float64</td>\n",
       "      <td>0</td>\n",
       "      <td>81</td>\n",
       "      <td>-0.226549</td>\n",
       "      <td>-1.109421</td>\n",
       "      <td>6.827510</td>\n",
       "    </tr>\n",
       "    <tr>\n",
       "      <th>2</th>\n",
       "      <td>EPS</td>\n",
       "      <td>float64</td>\n",
       "      <td>0</td>\n",
       "      <td>84</td>\n",
       "      <td>-0.602818</td>\n",
       "      <td>-5.735483</td>\n",
       "      <td>1.958900</td>\n",
       "    </tr>\n",
       "    <tr>\n",
       "      <th>3</th>\n",
       "      <td>Profitability</td>\n",
       "      <td>float64</td>\n",
       "      <td>0</td>\n",
       "      <td>84</td>\n",
       "      <td>0.224016</td>\n",
       "      <td>-7.044989</td>\n",
       "      <td>0.670058</td>\n",
       "    </tr>\n",
       "    <tr>\n",
       "      <th>4</th>\n",
       "      <td>Productivity</td>\n",
       "      <td>float64</td>\n",
       "      <td>0</td>\n",
       "      <td>71</td>\n",
       "      <td>0.097066</td>\n",
       "      <td>-4.358107</td>\n",
       "      <td>2.999156</td>\n",
       "    </tr>\n",
       "    <tr>\n",
       "      <th>5</th>\n",
       "      <td>Leverage Ratio</td>\n",
       "      <td>float64</td>\n",
       "      <td>0</td>\n",
       "      <td>80</td>\n",
       "      <td>-0.122358</td>\n",
       "      <td>-0.487979</td>\n",
       "      <td>9.270997</td>\n",
       "    </tr>\n",
       "    <tr>\n",
       "      <th>6</th>\n",
       "      <td>Asset Turnover</td>\n",
       "      <td>float64</td>\n",
       "      <td>0</td>\n",
       "      <td>84</td>\n",
       "      <td>1.691188</td>\n",
       "      <td>-1.336219</td>\n",
       "      <td>3.614617</td>\n",
       "    </tr>\n",
       "    <tr>\n",
       "      <th>7</th>\n",
       "      <td>Operational Margin</td>\n",
       "      <td>float64</td>\n",
       "      <td>0</td>\n",
       "      <td>72</td>\n",
       "      <td>0.136267</td>\n",
       "      <td>-9.268399</td>\n",
       "      <td>0.214465</td>\n",
       "    </tr>\n",
       "    <tr>\n",
       "      <th>8</th>\n",
       "      <td>Return on Equity</td>\n",
       "      <td>float64</td>\n",
       "      <td>0</td>\n",
       "      <td>70</td>\n",
       "      <td>-3.723043</td>\n",
       "      <td>-7.135506</td>\n",
       "      <td>0.379734</td>\n",
       "    </tr>\n",
       "    <tr>\n",
       "      <th>9</th>\n",
       "      <td>Market Book Ratio</td>\n",
       "      <td>float64</td>\n",
       "      <td>0</td>\n",
       "      <td>88</td>\n",
       "      <td>-0.173205</td>\n",
       "      <td>-0.255042</td>\n",
       "      <td>9.093306</td>\n",
       "    </tr>\n",
       "    <tr>\n",
       "      <th>10</th>\n",
       "      <td>Assets Growth</td>\n",
       "      <td>float64</td>\n",
       "      <td>0</td>\n",
       "      <td>88</td>\n",
       "      <td>-0.218656</td>\n",
       "      <td>-0.878912</td>\n",
       "      <td>8.730225</td>\n",
       "    </tr>\n",
       "    <tr>\n",
       "      <th>11</th>\n",
       "      <td>Sales Growth</td>\n",
       "      <td>float64</td>\n",
       "      <td>0</td>\n",
       "      <td>88</td>\n",
       "      <td>-0.117103</td>\n",
       "      <td>-0.156832</td>\n",
       "      <td>9.322735</td>\n",
       "    </tr>\n",
       "    <tr>\n",
       "      <th>12</th>\n",
       "      <td>Employee Growth</td>\n",
       "      <td>float64</td>\n",
       "      <td>0</td>\n",
       "      <td>85</td>\n",
       "      <td>-0.115627</td>\n",
       "      <td>-0.177430</td>\n",
       "      <td>9.322851</td>\n",
       "    </tr>\n",
       "    <tr>\n",
       "      <th>13</th>\n",
       "      <td>BK</td>\n",
       "      <td>int64</td>\n",
       "      <td>0</td>\n",
       "      <td>2</td>\n",
       "      <td>1.000000</td>\n",
       "      <td>0.000000</td>\n",
       "      <td>1.000000</td>\n",
       "    </tr>\n",
       "  </tbody>\n",
       "</table>\n",
       "</div>"
      ],
      "text/plain": [
       "                  Name   dtypes  Missing values  Unique values  First Value  \\\n",
       "0   Data Year - Fiscal  float64               0             37     0.791639   \n",
       "1            Tobin's Q  float64               0             81    -0.226549   \n",
       "2                  EPS  float64               0             84    -0.602818   \n",
       "3        Profitability  float64               0             84     0.224016   \n",
       "4         Productivity  float64               0             71     0.097066   \n",
       "5       Leverage Ratio  float64               0             80    -0.122358   \n",
       "6       Asset Turnover  float64               0             84     1.691188   \n",
       "7   Operational Margin  float64               0             72     0.136267   \n",
       "8     Return on Equity  float64               0             70    -3.723043   \n",
       "9    Market Book Ratio  float64               0             88    -0.173205   \n",
       "10       Assets Growth  float64               0             88    -0.218656   \n",
       "11        Sales Growth  float64               0             88    -0.117103   \n",
       "12     Employee Growth  float64               0             85    -0.115627   \n",
       "13                  BK    int64               0              2     1.000000   \n",
       "\n",
       "     Minimum   Maximum  \n",
       "0  -1.632245  1.689374  \n",
       "1  -1.109421  6.827510  \n",
       "2  -5.735483  1.958900  \n",
       "3  -7.044989  0.670058  \n",
       "4  -4.358107  2.999156  \n",
       "5  -0.487979  9.270997  \n",
       "6  -1.336219  3.614617  \n",
       "7  -9.268399  0.214465  \n",
       "8  -7.135506  0.379734  \n",
       "9  -0.255042  9.093306  \n",
       "10 -0.878912  8.730225  \n",
       "11 -0.156832  9.322735  \n",
       "12 -0.177430  9.322851  \n",
       "13  0.000000  1.000000  "
      ]
     },
     "execution_count": 14,
     "metadata": {},
     "output_type": "execute_result"
    }
   ],
   "source": [
    "eval_data_object = preproc.preprocessor(eval_data)\n",
    "\n",
    "processed_eval_df = preproc.feature_preprocessor(eval_data_object, features_dropna, features_impute, features_todrop, target)\n",
    "evaldf_explore = utility.df_explore_helper(processed_eval_df)\n",
    "evaldf_explore"
   ]
  },
  {
   "cell_type": "code",
   "execution_count": 15,
   "metadata": {},
   "outputs": [],
   "source": [
    "eval_y = processed_eval_df[\"BK\"]\n",
    "eval_X = processed_eval_df.drop([\"BK\"], axis=1)\n",
    "\n"
   ]
  },
  {
   "cell_type": "code",
   "execution_count": 19,
   "metadata": {},
   "outputs": [
    {
     "name": "stdout",
     "output_type": "stream",
     "text": [
      "Accuracy :  0.5\n",
      "[[44  0]\n",
      " [44  0]]\n"
     ]
    }
   ],
   "source": [
    "lr_y_pred = kfold_lr.predict(eval_X)\n",
    "print('Accuracy : ', accuracy_score(eval_y, lr_y_pred))\n",
    "print(confusion_matrix(eval_y, lr_y_pred))"
   ]
  },
  {
   "cell_type": "code",
   "execution_count": 20,
   "metadata": {},
   "outputs": [
    {
     "name": "stdout",
     "output_type": "stream",
     "text": [
      "Accuracy :  0.5\n",
      "[[44  0]\n",
      " [44  0]]\n"
     ]
    }
   ],
   "source": [
    "nb_y_pred = kfold_nb.predict(eval_X)\n",
    "print('Accuracy : ', accuracy_score(eval_y, nb_y_pred))\n",
    "print(confusion_matrix(eval_y, nb_y_pred))"
   ]
  },
  {
   "cell_type": "code",
   "execution_count": 21,
   "metadata": {},
   "outputs": [
    {
     "name": "stdout",
     "output_type": "stream",
     "text": [
      "Accuracy :  0.5\n",
      "[[44  0]\n",
      " [44  0]]\n"
     ]
    }
   ],
   "source": [
    "rf_y_pred = RF_tuned.predict(eval_X)\n",
    "print('Accuracy : ', accuracy_score(eval_y, rf_y_pred))\n",
    "print(confusion_matrix(eval_y, rf_y_pred))"
   ]
  },
  {
   "cell_type": "code",
   "execution_count": 22,
   "metadata": {},
   "outputs": [
    {
     "name": "stdout",
     "output_type": "stream",
     "text": [
      "Accuracy :  0.5681818181818182\n",
      "[[44  0]\n",
      " [38  6]]\n"
     ]
    }
   ],
   "source": [
    "gb_y_pred = kfold_GB.predict(eval_X)\n",
    "print('Accuracy : ', accuracy_score(eval_y, gb_y_pred))\n",
    "print(confusion_matrix(eval_y, gb_y_pred))"
   ]
  },
  {
   "cell_type": "code",
   "execution_count": 23,
   "metadata": {},
   "outputs": [
    {
     "name": "stdout",
     "output_type": "stream",
     "text": [
      "Accuracy :  0.5\n",
      "[[44  0]\n",
      " [44  0]]\n"
     ]
    }
   ],
   "source": [
    "dt_y_pred = DT_tuned.predict(eval_X)\n",
    "print('Accuracy : ', accuracy_score(eval_y, dt_y_pred))\n",
    "print(confusion_matrix(eval_y, dt_y_pred))"
   ]
  },
  {
   "cell_type": "code",
   "execution_count": null,
   "metadata": {},
   "outputs": [],
   "source": []
  }
 ],
 "metadata": {
  "kernelspec": {
   "display_name": "Python 3",
   "language": "python",
   "name": "python3"
  },
  "language_info": {
   "codemirror_mode": {
    "name": "ipython",
    "version": 3
   },
   "file_extension": ".py",
   "mimetype": "text/x-python",
   "name": "python",
   "nbconvert_exporter": "python",
   "pygments_lexer": "ipython3",
   "version": "3.7.3"
  }
 },
 "nbformat": 4,
 "nbformat_minor": 2
}
